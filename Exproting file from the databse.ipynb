{
 "cells": [
  {
   "cell_type": "code",
   "execution_count": 1,
   "id": "d1a55927",
   "metadata": {},
   "outputs": [],
   "source": [
    "import pandas as pd  \n",
    "import sqlite3"
   ]
  },
  {
   "cell_type": "code",
   "execution_count": 2,
   "id": "211cdf4b",
   "metadata": {},
   "outputs": [],
   "source": [
    "# creating databse connection \n",
    "conn = sqlite3.connect('inventory.db')"
   ]
  },
  {
   "cell_type": "code",
   "execution_count": 4,
   "id": "4b39171a",
   "metadata": {},
   "outputs": [
    {
     "name": "stdout",
     "output_type": "stream",
     "text": [
      "Exported begin_inventory.csv\n",
      "Exported end_inventory.csv\n",
      "Exported purchases.csv\n",
      "Exported purchase_prices.csv\n",
      "Exported sales.csv\n",
      "Exported vendor_invoice.csv\n",
      "Exported vendor_sales_summary.csv\n"
     ]
    }
   ],
   "source": [
    "query = pd.read_sql_query(\"SELECT name FROM sqlite_master WHERE TYPE = 'table';\",conn)\n",
    "\n",
    "for table in query[\"name\"]:\n",
    "    df = pd.read_sql_query(f'SELECT * FROM {table}',conn)\n",
    "    df.to_csv(f'{table}.csv',index = False)\n",
    "    print(f'Exported {table}.csv')\n",
    "conn.close()"
   ]
  },
  {
   "cell_type": "code",
   "execution_count": null,
   "id": "e5dba075",
   "metadata": {},
   "outputs": [],
   "source": []
  }
 ],
 "metadata": {
  "kernelspec": {
   "display_name": "base",
   "language": "python",
   "name": "python3"
  },
  "language_info": {
   "codemirror_mode": {
    "name": "ipython",
    "version": 3
   },
   "file_extension": ".py",
   "mimetype": "text/x-python",
   "name": "python",
   "nbconvert_exporter": "python",
   "pygments_lexer": "ipython3",
   "version": "3.12.7"
  }
 },
 "nbformat": 4,
 "nbformat_minor": 5
}
